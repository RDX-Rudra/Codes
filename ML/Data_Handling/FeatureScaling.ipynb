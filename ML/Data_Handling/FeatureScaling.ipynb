{
 "cells": [
  {
   "cell_type": "markdown",
   "metadata": {},
   "source": [
    "Feature Scaling"
   ]
  },
  {
   "cell_type": "markdown",
   "metadata": {},
   "source": [
    "two types - 1. Standardization : it is very effective technique which re-scales a feature value so that it has distribution with 0 mean value and variance equal to 1.\n",
    "                                Xnew = (Xi - Xmean) /Standard Deviation.   \n",
    "            2. Normalization"
   ]
  },
  {
   "cell_type": "code",
   "execution_count": null,
   "metadata": {},
   "outputs": [],
   "source": []
  }
 ],
 "metadata": {
  "language_info": {
   "name": "python"
  }
 },
 "nbformat": 4,
 "nbformat_minor": 2
}
