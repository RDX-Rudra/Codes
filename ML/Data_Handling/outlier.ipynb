{
 "cells": [
  {
   "cell_type": "markdown",
   "metadata": {},
   "source": [
    "outlier\n"
   ]
  },
  {
   "cell_type": "code",
   "execution_count": 2,
   "metadata": {},
   "outputs": [],
   "source": [
    "import pandas as pd\n",
    "import seaborn as sns\n",
    "import matplotlib.pyplot as plt"
   ]
  },
  {
   "cell_type": "code",
   "execution_count": 3,
   "metadata": {},
   "outputs": [
    {
     "data": {
      "text/html": [
       "<div>\n",
       "<style scoped>\n",
       "    .dataframe tbody tr th:only-of-type {\n",
       "        vertical-align: middle;\n",
       "    }\n",
       "\n",
       "    .dataframe tbody tr th {\n",
       "        vertical-align: top;\n",
       "    }\n",
       "\n",
       "    .dataframe thead th {\n",
       "        text-align: right;\n",
       "    }\n",
       "</style>\n",
       "<table border=\"1\" class=\"dataframe\">\n",
       "  <thead>\n",
       "    <tr style=\"text-align: right;\">\n",
       "      <th></th>\n",
       "      <th>loan_amnt</th>\n",
       "      <th>term</th>\n",
       "      <th>int_rate</th>\n",
       "      <th>emp_length</th>\n",
       "      <th>home_ownership</th>\n",
       "      <th>annual_inc</th>\n",
       "      <th>purpose</th>\n",
       "      <th>addr_state</th>\n",
       "      <th>dti</th>\n",
       "      <th>delinq_2yrs</th>\n",
       "      <th>revol_util</th>\n",
       "      <th>total_acc</th>\n",
       "      <th>bad_loan</th>\n",
       "      <th>longest_credit_length</th>\n",
       "      <th>verification_status</th>\n",
       "    </tr>\n",
       "  </thead>\n",
       "  <tbody>\n",
       "    <tr>\n",
       "      <th>0</th>\n",
       "      <td>5000</td>\n",
       "      <td>36 months</td>\n",
       "      <td>10.65</td>\n",
       "      <td>10.0</td>\n",
       "      <td>RENT</td>\n",
       "      <td>24000.0</td>\n",
       "      <td>credit_card</td>\n",
       "      <td>AZ</td>\n",
       "      <td>27.65</td>\n",
       "      <td>0.0</td>\n",
       "      <td>83.7</td>\n",
       "      <td>9.0</td>\n",
       "      <td>0</td>\n",
       "      <td>26.0</td>\n",
       "      <td>verified</td>\n",
       "    </tr>\n",
       "    <tr>\n",
       "      <th>1</th>\n",
       "      <td>2500</td>\n",
       "      <td>60 months</td>\n",
       "      <td>15.27</td>\n",
       "      <td>0.0</td>\n",
       "      <td>RENT</td>\n",
       "      <td>30000.0</td>\n",
       "      <td>car</td>\n",
       "      <td>GA</td>\n",
       "      <td>1.00</td>\n",
       "      <td>0.0</td>\n",
       "      <td>9.4</td>\n",
       "      <td>4.0</td>\n",
       "      <td>1</td>\n",
       "      <td>12.0</td>\n",
       "      <td>verified</td>\n",
       "    </tr>\n",
       "    <tr>\n",
       "      <th>2</th>\n",
       "      <td>2400</td>\n",
       "      <td>36 months</td>\n",
       "      <td>15.96</td>\n",
       "      <td>10.0</td>\n",
       "      <td>RENT</td>\n",
       "      <td>12252.0</td>\n",
       "      <td>small_business</td>\n",
       "      <td>IL</td>\n",
       "      <td>8.72</td>\n",
       "      <td>0.0</td>\n",
       "      <td>98.5</td>\n",
       "      <td>10.0</td>\n",
       "      <td>0</td>\n",
       "      <td>10.0</td>\n",
       "      <td>not verified</td>\n",
       "    </tr>\n",
       "    <tr>\n",
       "      <th>3</th>\n",
       "      <td>10000</td>\n",
       "      <td>36 months</td>\n",
       "      <td>13.49</td>\n",
       "      <td>10.0</td>\n",
       "      <td>RENT</td>\n",
       "      <td>49200.0</td>\n",
       "      <td>other</td>\n",
       "      <td>CA</td>\n",
       "      <td>20.00</td>\n",
       "      <td>0.0</td>\n",
       "      <td>21.0</td>\n",
       "      <td>37.0</td>\n",
       "      <td>0</td>\n",
       "      <td>15.0</td>\n",
       "      <td>verified</td>\n",
       "    </tr>\n",
       "    <tr>\n",
       "      <th>4</th>\n",
       "      <td>5000</td>\n",
       "      <td>36 months</td>\n",
       "      <td>7.90</td>\n",
       "      <td>3.0</td>\n",
       "      <td>RENT</td>\n",
       "      <td>36000.0</td>\n",
       "      <td>wedding</td>\n",
       "      <td>AZ</td>\n",
       "      <td>11.20</td>\n",
       "      <td>0.0</td>\n",
       "      <td>28.3</td>\n",
       "      <td>12.0</td>\n",
       "      <td>0</td>\n",
       "      <td>7.0</td>\n",
       "      <td>verified</td>\n",
       "    </tr>\n",
       "  </tbody>\n",
       "</table>\n",
       "</div>"
      ],
      "text/plain": [
       "   loan_amnt       term  int_rate  emp_length home_ownership  annual_inc  \\\n",
       "0       5000  36 months     10.65        10.0           RENT     24000.0   \n",
       "1       2500  60 months     15.27         0.0           RENT     30000.0   \n",
       "2       2400  36 months     15.96        10.0           RENT     12252.0   \n",
       "3      10000  36 months     13.49        10.0           RENT     49200.0   \n",
       "4       5000  36 months      7.90         3.0           RENT     36000.0   \n",
       "\n",
       "          purpose addr_state    dti  delinq_2yrs  revol_util  total_acc  \\\n",
       "0     credit_card         AZ  27.65          0.0        83.7        9.0   \n",
       "1             car         GA   1.00          0.0         9.4        4.0   \n",
       "2  small_business         IL   8.72          0.0        98.5       10.0   \n",
       "3           other         CA  20.00          0.0        21.0       37.0   \n",
       "4         wedding         AZ  11.20          0.0        28.3       12.0   \n",
       "\n",
       "   bad_loan  longest_credit_length verification_status  \n",
       "0         0                   26.0            verified  \n",
       "1         1                   12.0            verified  \n",
       "2         0                   10.0        not verified  \n",
       "3         0                   15.0            verified  \n",
       "4         0                    7.0            verified  "
      ]
     },
     "execution_count": 3,
     "metadata": {},
     "output_type": "execute_result"
    }
   ],
   "source": [
    "df = pd.read_csv(\"loan.csv\")\n",
    "df.head(5)"
   ]
  },
  {
   "cell_type": "code",
   "execution_count": 4,
   "metadata": {},
   "outputs": [
    {
     "data": {
      "text/plain": [
       "loan_amnt                   0\n",
       "term                        0\n",
       "int_rate                    0\n",
       "emp_length               5804\n",
       "home_ownership              0\n",
       "annual_inc                  4\n",
       "purpose                     0\n",
       "addr_state                  0\n",
       "dti                         0\n",
       "delinq_2yrs                29\n",
       "revol_util                193\n",
       "total_acc                  29\n",
       "bad_loan                    0\n",
       "longest_credit_length      29\n",
       "verification_status         0\n",
       "dtype: int64"
      ]
     },
     "execution_count": 4,
     "metadata": {},
     "output_type": "execute_result"
    }
   ],
   "source": [
    "df.isnull().sum()"
   ]
  },
  {
   "cell_type": "code",
   "execution_count": 5,
   "metadata": {},
   "outputs": [
    {
     "name": "stdout",
     "output_type": "stream",
     "text": [
      "<class 'pandas.core.frame.DataFrame'>\n",
      "RangeIndex: 163987 entries, 0 to 163986\n",
      "Data columns (total 15 columns):\n",
      " #   Column                 Non-Null Count   Dtype  \n",
      "---  ------                 --------------   -----  \n",
      " 0   loan_amnt              163987 non-null  int64  \n",
      " 1   term                   163987 non-null  object \n",
      " 2   int_rate               163987 non-null  float64\n",
      " 3   emp_length             158183 non-null  float64\n",
      " 4   home_ownership         163987 non-null  object \n",
      " 5   annual_inc             163983 non-null  float64\n",
      " 6   purpose                163987 non-null  object \n",
      " 7   addr_state             163987 non-null  object \n",
      " 8   dti                    163987 non-null  float64\n",
      " 9   delinq_2yrs            163958 non-null  float64\n",
      " 10  revol_util             163794 non-null  float64\n",
      " 11  total_acc              163958 non-null  float64\n",
      " 12  bad_loan               163987 non-null  int64  \n",
      " 13  longest_credit_length  163958 non-null  float64\n",
      " 14  verification_status    163987 non-null  object \n",
      "dtypes: float64(8), int64(2), object(5)\n",
      "memory usage: 18.8+ MB\n"
     ]
    }
   ],
   "source": [
    "df.info()"
   ]
  },
  {
   "cell_type": "code",
   "execution_count": 6,
   "metadata": {},
   "outputs": [
    {
     "data": {
      "text/html": [
       "<div>\n",
       "<style scoped>\n",
       "    .dataframe tbody tr th:only-of-type {\n",
       "        vertical-align: middle;\n",
       "    }\n",
       "\n",
       "    .dataframe tbody tr th {\n",
       "        vertical-align: top;\n",
       "    }\n",
       "\n",
       "    .dataframe thead th {\n",
       "        text-align: right;\n",
       "    }\n",
       "</style>\n",
       "<table border=\"1\" class=\"dataframe\">\n",
       "  <thead>\n",
       "    <tr style=\"text-align: right;\">\n",
       "      <th></th>\n",
       "      <th>loan_amnt</th>\n",
       "      <th>int_rate</th>\n",
       "      <th>emp_length</th>\n",
       "      <th>annual_inc</th>\n",
       "      <th>dti</th>\n",
       "      <th>delinq_2yrs</th>\n",
       "      <th>revol_util</th>\n",
       "      <th>total_acc</th>\n",
       "      <th>bad_loan</th>\n",
       "      <th>longest_credit_length</th>\n",
       "    </tr>\n",
       "  </thead>\n",
       "  <tbody>\n",
       "    <tr>\n",
       "      <th>count</th>\n",
       "      <td>163987.000000</td>\n",
       "      <td>163987.000000</td>\n",
       "      <td>158183.000000</td>\n",
       "      <td>1.639830e+05</td>\n",
       "      <td>163987.000000</td>\n",
       "      <td>163958.000000</td>\n",
       "      <td>163794.000000</td>\n",
       "      <td>163958.000000</td>\n",
       "      <td>163987.000000</td>\n",
       "      <td>163958.000000</td>\n",
       "    </tr>\n",
       "    <tr>\n",
       "      <th>mean</th>\n",
       "      <td>13074.169141</td>\n",
       "      <td>13.715904</td>\n",
       "      <td>5.684353</td>\n",
       "      <td>7.191567e+04</td>\n",
       "      <td>15.881530</td>\n",
       "      <td>0.227357</td>\n",
       "      <td>54.079173</td>\n",
       "      <td>24.579734</td>\n",
       "      <td>0.183039</td>\n",
       "      <td>14.854274</td>\n",
       "    </tr>\n",
       "    <tr>\n",
       "      <th>std</th>\n",
       "      <td>7993.556189</td>\n",
       "      <td>4.391940</td>\n",
       "      <td>3.610664</td>\n",
       "      <td>5.907092e+04</td>\n",
       "      <td>7.587668</td>\n",
       "      <td>0.694168</td>\n",
       "      <td>25.285367</td>\n",
       "      <td>11.685190</td>\n",
       "      <td>0.386700</td>\n",
       "      <td>6.947733</td>\n",
       "    </tr>\n",
       "    <tr>\n",
       "      <th>min</th>\n",
       "      <td>500.000000</td>\n",
       "      <td>5.420000</td>\n",
       "      <td>0.000000</td>\n",
       "      <td>1.896000e+03</td>\n",
       "      <td>0.000000</td>\n",
       "      <td>0.000000</td>\n",
       "      <td>0.000000</td>\n",
       "      <td>1.000000</td>\n",
       "      <td>0.000000</td>\n",
       "      <td>0.000000</td>\n",
       "    </tr>\n",
       "    <tr>\n",
       "      <th>25%</th>\n",
       "      <td>7000.000000</td>\n",
       "      <td>10.650000</td>\n",
       "      <td>2.000000</td>\n",
       "      <td>4.500000e+04</td>\n",
       "      <td>10.230000</td>\n",
       "      <td>0.000000</td>\n",
       "      <td>35.600000</td>\n",
       "      <td>16.000000</td>\n",
       "      <td>0.000000</td>\n",
       "      <td>10.000000</td>\n",
       "    </tr>\n",
       "    <tr>\n",
       "      <th>50%</th>\n",
       "      <td>11325.000000</td>\n",
       "      <td>13.490000</td>\n",
       "      <td>6.000000</td>\n",
       "      <td>6.100000e+04</td>\n",
       "      <td>15.620000</td>\n",
       "      <td>0.000000</td>\n",
       "      <td>55.800000</td>\n",
       "      <td>23.000000</td>\n",
       "      <td>0.000000</td>\n",
       "      <td>14.000000</td>\n",
       "    </tr>\n",
       "    <tr>\n",
       "      <th>75%</th>\n",
       "      <td>18000.000000</td>\n",
       "      <td>16.320000</td>\n",
       "      <td>10.000000</td>\n",
       "      <td>8.500000e+04</td>\n",
       "      <td>21.260000</td>\n",
       "      <td>0.000000</td>\n",
       "      <td>74.200000</td>\n",
       "      <td>31.000000</td>\n",
       "      <td>0.000000</td>\n",
       "      <td>18.000000</td>\n",
       "    </tr>\n",
       "    <tr>\n",
       "      <th>max</th>\n",
       "      <td>35000.000000</td>\n",
       "      <td>26.060000</td>\n",
       "      <td>10.000000</td>\n",
       "      <td>7.141778e+06</td>\n",
       "      <td>39.990000</td>\n",
       "      <td>29.000000</td>\n",
       "      <td>150.700000</td>\n",
       "      <td>118.000000</td>\n",
       "      <td>1.000000</td>\n",
       "      <td>65.000000</td>\n",
       "    </tr>\n",
       "  </tbody>\n",
       "</table>\n",
       "</div>"
      ],
      "text/plain": [
       "           loan_amnt       int_rate     emp_length    annual_inc  \\\n",
       "count  163987.000000  163987.000000  158183.000000  1.639830e+05   \n",
       "mean    13074.169141      13.715904       5.684353  7.191567e+04   \n",
       "std      7993.556189       4.391940       3.610664  5.907092e+04   \n",
       "min       500.000000       5.420000       0.000000  1.896000e+03   \n",
       "25%      7000.000000      10.650000       2.000000  4.500000e+04   \n",
       "50%     11325.000000      13.490000       6.000000  6.100000e+04   \n",
       "75%     18000.000000      16.320000      10.000000  8.500000e+04   \n",
       "max     35000.000000      26.060000      10.000000  7.141778e+06   \n",
       "\n",
       "                 dti    delinq_2yrs     revol_util      total_acc  \\\n",
       "count  163987.000000  163958.000000  163794.000000  163958.000000   \n",
       "mean       15.881530       0.227357      54.079173      24.579734   \n",
       "std         7.587668       0.694168      25.285367      11.685190   \n",
       "min         0.000000       0.000000       0.000000       1.000000   \n",
       "25%        10.230000       0.000000      35.600000      16.000000   \n",
       "50%        15.620000       0.000000      55.800000      23.000000   \n",
       "75%        21.260000       0.000000      74.200000      31.000000   \n",
       "max        39.990000      29.000000     150.700000     118.000000   \n",
       "\n",
       "            bad_loan  longest_credit_length  \n",
       "count  163987.000000          163958.000000  \n",
       "mean        0.183039              14.854274  \n",
       "std         0.386700               6.947733  \n",
       "min         0.000000               0.000000  \n",
       "25%         0.000000              10.000000  \n",
       "50%         0.000000              14.000000  \n",
       "75%         0.000000              18.000000  \n",
       "max         1.000000              65.000000  "
      ]
     },
     "execution_count": 6,
     "metadata": {},
     "output_type": "execute_result"
    }
   ],
   "source": [
    "df.describe()"
   ]
  },
  {
   "cell_type": "markdown",
   "metadata": {},
   "source": [
    "outlier detection"
   ]
  },
  {
   "cell_type": "code",
   "execution_count": 7,
   "metadata": {},
   "outputs": [
    {
     "data": {
      "image/png": "[encoded data removed]",
      "text/plain": [
       "<Figure size 640x480 with 1 Axes>"
      ]
     },
     "metadata": {},
     "output_type": "display_data"
    }
   ],
   "source": [
    "sns.boxenplot(x=\"loan_amnt\", data= df)\n",
    "plt.show()"
   ]
  },
  {
   "cell_type": "code",
   "execution_count": 8,
   "metadata": {},
   "outputs": [
    {
     "data": {
      "image/png": "[encoded data removed]",
      "text/plain": [
       "<Figure size 500x500 with 1 Axes>"
      ]
     },
     "metadata": {},
     "output_type": "display_data"
    }
   ],
   "source": [
    "sns.displot(df[\"loan_amnt\"])\n",
    "plt.show()"
   ]
  },
  {
   "cell_type": "markdown",
   "metadata": {},
   "source": [
    "Outlier remove\n",
    "using IQR"
   ]
  },
  {
   "cell_type": "code",
   "execution_count": 9,
   "metadata": {},
   "outputs": [
    {
     "data": {
      "text/plain": [
       "(163987, 15)"
      ]
     },
     "execution_count": 9,
     "metadata": {},
     "output_type": "execute_result"
    }
   ],
   "source": [
    "df.shape"
   ]
  },
  {
   "cell_type": "code",
   "execution_count": 10,
   "metadata": {},
   "outputs": [],
   "source": [
    "q1 = df[\"loan_amnt\"].quantile(0.25)"
   ]
  },
  {
   "cell_type": "code",
   "execution_count": 11,
   "metadata": {},
   "outputs": [
    {
     "data": {
      "text/plain": [
       "7000.0"
      ]
     },
     "execution_count": 11,
     "metadata": {},
     "output_type": "execute_result"
    }
   ],
   "source": [
    "q1"
   ]
  },
  {
   "cell_type": "code",
   "execution_count": 12,
   "metadata": {},
   "outputs": [
    {
     "data": {
      "text/plain": [
       "18000.0"
      ]
     },
     "execution_count": 12,
     "metadata": {},
     "output_type": "execute_result"
    }
   ],
   "source": [
    "q3 = df[\"loan_amnt\"].quantile(0.75)\n",
    "q3"
   ]
  },
  {
   "cell_type": "code",
   "execution_count": 13,
   "metadata": {},
   "outputs": [],
   "source": [
    "IQR = q3-q1"
   ]
  },
  {
   "cell_type": "code",
   "execution_count": 14,
   "metadata": {},
   "outputs": [],
   "source": [
    "min_range = q1 -(1.5*IQR)\n",
    "max_range = q3+(1.5*IQR)"
   ]
  },
  {
   "cell_type": "code",
   "execution_count": 15,
   "metadata": {},
   "outputs": [
    {
     "data": {
      "text/plain": [
       "(-9500.0, 34500.0)"
      ]
     },
     "execution_count": 15,
     "metadata": {},
     "output_type": "execute_result"
    }
   ],
   "source": [
    "min_range, max_range"
   ]
  },
  {
   "cell_type": "code",
   "execution_count": 16,
   "metadata": {},
   "outputs": [],
   "source": [
    "new_df = df[df[\"loan_amnt\"]<=max_range]"
   ]
  },
  {
   "cell_type": "code",
   "execution_count": 17,
   "metadata": {},
   "outputs": [
    {
     "data": {
      "text/plain": [
       "(159469, 15)"
      ]
     },
     "execution_count": 17,
     "metadata": {},
     "output_type": "execute_result"
    }
   ],
   "source": [
    "new_df.shape"
   ]
  },
  {
   "cell_type": "code",
   "execution_count": 18,
   "metadata": {},
   "outputs": [
    {
     "data": {
      "image/png": "[encoded data removed]",
      "text/plain": [
       "<Figure size 640x480 with 1 Axes>"
      ]
     },
     "metadata": {},
     "output_type": "display_data"
    }
   ],
   "source": [
    "sns.boxenplot(x=\"loan_amnt\", data= new_df)\n",
    "plt.show()"
   ]
  },
  {
   "cell_type": "markdown",
   "metadata": {},
   "source": [
    "outlier remove using scope"
   ]
  },
  {
   "cell_type": "code",
   "execution_count": 19,
   "metadata": {},
   "outputs": [
    {
     "data": {
      "image/png": "[encoded data removed]",
      "text/plain": [
       "<Figure size 640x480 with 1 Axes>"
      ]
     },
     "metadata": {},
     "output_type": "display_data"
    }
   ],
   "source": [
    "sns.boxenplot(x=\"revol_util\", data= df)\n",
    "plt.show()"
   ]
  },
  {
   "cell_type": "code",
   "execution_count": 20,
   "metadata": {},
   "outputs": [
    {
     "data": {
      "image/png": "[encoded data removed]",
      "text/plain": [
       "<Figure size 500x500 with 1 Axes>"
      ]
     },
     "metadata": {},
     "output_type": "display_data"
    }
   ],
   "source": [
    "sns.displot(df[\"revol_util\"])\n",
    "plt.show()"
   ]
  },
  {
   "cell_type": "code",
   "execution_count": 21,
   "metadata": {},
   "outputs": [],
   "source": [
    "min_range1 = df[\"revol_util\"].mean() - (3*df[\"revol_util\"].std())\n",
    "max_range1 = df[\"revol_util\"].mean() + (3*df[\"revol_util\"].std())"
   ]
  },
  {
   "cell_type": "code",
   "execution_count": 22,
   "metadata": {},
   "outputs": [
    {
     "data": {
      "text/plain": [
       "(-21.776927497888863, 129.935273102734)"
      ]
     },
     "execution_count": 22,
     "metadata": {},
     "output_type": "execute_result"
    }
   ],
   "source": [
    "min_range1, max_range1"
   ]
  },
  {
   "cell_type": "code",
   "execution_count": 23,
   "metadata": {},
   "outputs": [],
   "source": [
    "new_df1 = df[df[\"revol_util\"]<=max_range1]"
   ]
  },
  {
   "cell_type": "code",
   "execution_count": 30,
   "metadata": {},
   "outputs": [
    {
     "data": {
      "text/plain": [
       "(163793, 15)"
      ]
     },
     "execution_count": 30,
     "metadata": {},
     "output_type": "execute_result"
    }
   ],
   "source": [
    "new_df1.shape"
   ]
  },
  {
   "cell_type": "code",
   "execution_count": 24,
   "metadata": {},
   "outputs": [
    {
     "data": {
      "text/plain": [
       "<Axes: xlabel='revol_util'>"
      ]
     },
     "execution_count": 24,
     "metadata": {},
     "output_type": "execute_result"
    },
    {
     "data": {
      "image/png": "[encoded data removed]",
      "text/plain": [
       "<Figure size 640x480 with 1 Axes>"
      ]
     },
     "metadata": {},
     "output_type": "display_data"
    }
   ],
   "source": [
    "sns.boxplot(x=\"revol_util\", data=new_df1)"
   ]
  },
  {
   "cell_type": "markdown",
   "metadata": {},
   "source": [
    "Using Z_SCORE method"
   ]
  },
  {
   "cell_type": "code",
   "execution_count": 25,
   "metadata": {},
   "outputs": [],
   "source": [
    "z_score = (df[\"revol_util\"] - df[\"revol_util\"].mean())/(df[\"revol_util\"].std())"
   ]
  },
  {
   "cell_type": "code",
   "execution_count": 26,
   "metadata": {},
   "outputs": [
    {
     "data": {
      "text/plain": [
       "0         1.171461\n",
       "1        -1.766997\n",
       "2         1.756780\n",
       "3        -1.308234\n",
       "4        -1.019529\n",
       "            ...   \n",
       "163982    0.859028\n",
       "163983    0.582188\n",
       "163984    0.657330\n",
       "163985    0.281619\n",
       "163986   -0.003131\n",
       "Name: revol_util, Length: 163987, dtype: float64"
      ]
     },
     "execution_count": 26,
     "metadata": {},
     "output_type": "execute_result"
    }
   ],
   "source": [
    "z_score"
   ]
  },
  {
   "cell_type": "code",
   "execution_count": 27,
   "metadata": {},
   "outputs": [],
   "source": [
    "df[\"z_score\"] = z_score"
   ]
  },
  {
   "cell_type": "code",
   "execution_count": 29,
   "metadata": {},
   "outputs": [
    {
     "data": {
      "text/html": [
       "<div>\n",
       "<style scoped>\n",
       "    .dataframe tbody tr th:only-of-type {\n",
       "        vertical-align: middle;\n",
       "    }\n",
       "\n",
       "    .dataframe tbody tr th {\n",
       "        vertical-align: top;\n",
       "    }\n",
       "\n",
       "    .dataframe thead th {\n",
       "        text-align: right;\n",
       "    }\n",
       "</style>\n",
       "<table border=\"1\" class=\"dataframe\">\n",
       "  <thead>\n",
       "    <tr style=\"text-align: right;\">\n",
       "      <th></th>\n",
       "      <th>loan_amnt</th>\n",
       "      <th>term</th>\n",
       "      <th>int_rate</th>\n",
       "      <th>emp_length</th>\n",
       "      <th>home_ownership</th>\n",
       "      <th>annual_inc</th>\n",
       "      <th>purpose</th>\n",
       "      <th>addr_state</th>\n",
       "      <th>dti</th>\n",
       "      <th>delinq_2yrs</th>\n",
       "      <th>revol_util</th>\n",
       "      <th>total_acc</th>\n",
       "      <th>bad_loan</th>\n",
       "      <th>longest_credit_length</th>\n",
       "      <th>verification_status</th>\n",
       "      <th>z_score</th>\n",
       "    </tr>\n",
       "  </thead>\n",
       "  <tbody>\n",
       "    <tr>\n",
       "      <th>0</th>\n",
       "      <td>5000</td>\n",
       "      <td>36 months</td>\n",
       "      <td>10.65</td>\n",
       "      <td>10.0</td>\n",
       "      <td>RENT</td>\n",
       "      <td>24000.0</td>\n",
       "      <td>credit_card</td>\n",
       "      <td>AZ</td>\n",
       "      <td>27.65</td>\n",
       "      <td>0.0</td>\n",
       "      <td>83.7</td>\n",
       "      <td>9.0</td>\n",
       "      <td>0</td>\n",
       "      <td>26.0</td>\n",
       "      <td>verified</td>\n",
       "      <td>1.171461</td>\n",
       "    </tr>\n",
       "    <tr>\n",
       "      <th>1</th>\n",
       "      <td>2500</td>\n",
       "      <td>60 months</td>\n",
       "      <td>15.27</td>\n",
       "      <td>0.0</td>\n",
       "      <td>RENT</td>\n",
       "      <td>30000.0</td>\n",
       "      <td>car</td>\n",
       "      <td>GA</td>\n",
       "      <td>1.00</td>\n",
       "      <td>0.0</td>\n",
       "      <td>9.4</td>\n",
       "      <td>4.0</td>\n",
       "      <td>1</td>\n",
       "      <td>12.0</td>\n",
       "      <td>verified</td>\n",
       "      <td>-1.766997</td>\n",
       "    </tr>\n",
       "    <tr>\n",
       "      <th>2</th>\n",
       "      <td>2400</td>\n",
       "      <td>36 months</td>\n",
       "      <td>15.96</td>\n",
       "      <td>10.0</td>\n",
       "      <td>RENT</td>\n",
       "      <td>12252.0</td>\n",
       "      <td>small_business</td>\n",
       "      <td>IL</td>\n",
       "      <td>8.72</td>\n",
       "      <td>0.0</td>\n",
       "      <td>98.5</td>\n",
       "      <td>10.0</td>\n",
       "      <td>0</td>\n",
       "      <td>10.0</td>\n",
       "      <td>not verified</td>\n",
       "      <td>1.756780</td>\n",
       "    </tr>\n",
       "    <tr>\n",
       "      <th>3</th>\n",
       "      <td>10000</td>\n",
       "      <td>36 months</td>\n",
       "      <td>13.49</td>\n",
       "      <td>10.0</td>\n",
       "      <td>RENT</td>\n",
       "      <td>49200.0</td>\n",
       "      <td>other</td>\n",
       "      <td>CA</td>\n",
       "      <td>20.00</td>\n",
       "      <td>0.0</td>\n",
       "      <td>21.0</td>\n",
       "      <td>37.0</td>\n",
       "      <td>0</td>\n",
       "      <td>15.0</td>\n",
       "      <td>verified</td>\n",
       "      <td>-1.308234</td>\n",
       "    </tr>\n",
       "    <tr>\n",
       "      <th>4</th>\n",
       "      <td>5000</td>\n",
       "      <td>36 months</td>\n",
       "      <td>7.90</td>\n",
       "      <td>3.0</td>\n",
       "      <td>RENT</td>\n",
       "      <td>36000.0</td>\n",
       "      <td>wedding</td>\n",
       "      <td>AZ</td>\n",
       "      <td>11.20</td>\n",
       "      <td>0.0</td>\n",
       "      <td>28.3</td>\n",
       "      <td>12.0</td>\n",
       "      <td>0</td>\n",
       "      <td>7.0</td>\n",
       "      <td>verified</td>\n",
       "      <td>-1.019529</td>\n",
       "    </tr>\n",
       "    <tr>\n",
       "      <th>...</th>\n",
       "      <td>...</td>\n",
       "      <td>...</td>\n",
       "      <td>...</td>\n",
       "      <td>...</td>\n",
       "      <td>...</td>\n",
       "      <td>...</td>\n",
       "      <td>...</td>\n",
       "      <td>...</td>\n",
       "      <td>...</td>\n",
       "      <td>...</td>\n",
       "      <td>...</td>\n",
       "      <td>...</td>\n",
       "      <td>...</td>\n",
       "      <td>...</td>\n",
       "      <td>...</td>\n",
       "      <td>...</td>\n",
       "    </tr>\n",
       "    <tr>\n",
       "      <th>163982</th>\n",
       "      <td>15000</td>\n",
       "      <td>60 months</td>\n",
       "      <td>12.39</td>\n",
       "      <td>3.0</td>\n",
       "      <td>MORTGAGE</td>\n",
       "      <td>45000.0</td>\n",
       "      <td>credit_card</td>\n",
       "      <td>OK</td>\n",
       "      <td>31.44</td>\n",
       "      <td>4.0</td>\n",
       "      <td>75.8</td>\n",
       "      <td>34.0</td>\n",
       "      <td>0</td>\n",
       "      <td>20.0</td>\n",
       "      <td>not verified</td>\n",
       "      <td>0.859028</td>\n",
       "    </tr>\n",
       "    <tr>\n",
       "      <th>163983</th>\n",
       "      <td>20000</td>\n",
       "      <td>36 months</td>\n",
       "      <td>14.99</td>\n",
       "      <td>10.0</td>\n",
       "      <td>OWN</td>\n",
       "      <td>80000.0</td>\n",
       "      <td>home_improvement</td>\n",
       "      <td>VA</td>\n",
       "      <td>23.65</td>\n",
       "      <td>0.0</td>\n",
       "      <td>68.8</td>\n",
       "      <td>18.0</td>\n",
       "      <td>0</td>\n",
       "      <td>22.0</td>\n",
       "      <td>verified</td>\n",
       "      <td>0.582188</td>\n",
       "    </tr>\n",
       "    <tr>\n",
       "      <th>163984</th>\n",
       "      <td>12825</td>\n",
       "      <td>36 months</td>\n",
       "      <td>17.14</td>\n",
       "      <td>6.0</td>\n",
       "      <td>MORTGAGE</td>\n",
       "      <td>38000.0</td>\n",
       "      <td>debt_consolidation</td>\n",
       "      <td>TX</td>\n",
       "      <td>9.03</td>\n",
       "      <td>0.0</td>\n",
       "      <td>70.7</td>\n",
       "      <td>24.0</td>\n",
       "      <td>0</td>\n",
       "      <td>9.0</td>\n",
       "      <td>not verified</td>\n",
       "      <td>0.657330</td>\n",
       "    </tr>\n",
       "    <tr>\n",
       "      <th>163985</th>\n",
       "      <td>27650</td>\n",
       "      <td>60 months</td>\n",
       "      <td>21.99</td>\n",
       "      <td>0.0</td>\n",
       "      <td>RENT</td>\n",
       "      <td>60000.0</td>\n",
       "      <td>credit_card</td>\n",
       "      <td>NY</td>\n",
       "      <td>10.10</td>\n",
       "      <td>1.0</td>\n",
       "      <td>61.2</td>\n",
       "      <td>20.0</td>\n",
       "      <td>0</td>\n",
       "      <td>6.0</td>\n",
       "      <td>verified</td>\n",
       "      <td>0.281619</td>\n",
       "    </tr>\n",
       "    <tr>\n",
       "      <th>163986</th>\n",
       "      <td>17000</td>\n",
       "      <td>60 months</td>\n",
       "      <td>15.99</td>\n",
       "      <td>10.0</td>\n",
       "      <td>MORTGAGE</td>\n",
       "      <td>63078.0</td>\n",
       "      <td>debt_consolidation</td>\n",
       "      <td>PA</td>\n",
       "      <td>31.70</td>\n",
       "      <td>0.0</td>\n",
       "      <td>54.0</td>\n",
       "      <td>28.0</td>\n",
       "      <td>0</td>\n",
       "      <td>16.0</td>\n",
       "      <td>verified</td>\n",
       "      <td>-0.003131</td>\n",
       "    </tr>\n",
       "  </tbody>\n",
       "</table>\n",
       "<p>163793 rows × 16 columns</p>\n",
       "</div>"
      ],
      "text/plain": [
       "        loan_amnt       term  int_rate  emp_length home_ownership  annual_inc  \\\n",
       "0            5000  36 months     10.65        10.0           RENT     24000.0   \n",
       "1            2500  60 months     15.27         0.0           RENT     30000.0   \n",
       "2            2400  36 months     15.96        10.0           RENT     12252.0   \n",
       "3           10000  36 months     13.49        10.0           RENT     49200.0   \n",
       "4            5000  36 months      7.90         3.0           RENT     36000.0   \n",
       "...           ...        ...       ...         ...            ...         ...   \n",
       "163982      15000  60 months     12.39         3.0       MORTGAGE     45000.0   \n",
       "163983      20000  36 months     14.99        10.0            OWN     80000.0   \n",
       "163984      12825  36 months     17.14         6.0       MORTGAGE     38000.0   \n",
       "163985      27650  60 months     21.99         0.0           RENT     60000.0   \n",
       "163986      17000  60 months     15.99        10.0       MORTGAGE     63078.0   \n",
       "\n",
       "                   purpose addr_state    dti  delinq_2yrs  revol_util  \\\n",
       "0              credit_card         AZ  27.65          0.0        83.7   \n",
       "1                      car         GA   1.00          0.0         9.4   \n",
       "2           small_business         IL   8.72          0.0        98.5   \n",
       "3                    other         CA  20.00          0.0        21.0   \n",
       "4                  wedding         AZ  11.20          0.0        28.3   \n",
       "...                    ...        ...    ...          ...         ...   \n",
       "163982         credit_card         OK  31.44          4.0        75.8   \n",
       "163983    home_improvement         VA  23.65          0.0        68.8   \n",
       "163984  debt_consolidation         TX   9.03          0.0        70.7   \n",
       "163985         credit_card         NY  10.10          1.0        61.2   \n",
       "163986  debt_consolidation         PA  31.70          0.0        54.0   \n",
       "\n",
       "        total_acc  bad_loan  longest_credit_length verification_status  \\\n",
       "0             9.0         0                   26.0            verified   \n",
       "1             4.0         1                   12.0            verified   \n",
       "2            10.0         0                   10.0        not verified   \n",
       "3            37.0         0                   15.0            verified   \n",
       "4            12.0         0                    7.0            verified   \n",
       "...           ...       ...                    ...                 ...   \n",
       "163982       34.0         0                   20.0        not verified   \n",
       "163983       18.0         0                   22.0            verified   \n",
       "163984       24.0         0                    9.0        not verified   \n",
       "163985       20.0         0                    6.0            verified   \n",
       "163986       28.0         0                   16.0            verified   \n",
       "\n",
       "         z_score  \n",
       "0       1.171461  \n",
       "1      -1.766997  \n",
       "2       1.756780  \n",
       "3      -1.308234  \n",
       "4      -1.019529  \n",
       "...          ...  \n",
       "163982  0.859028  \n",
       "163983  0.582188  \n",
       "163984  0.657330  \n",
       "163985  0.281619  \n",
       "163986 -0.003131  \n",
       "\n",
       "[163793 rows x 16 columns]"
      ]
     },
     "execution_count": 29,
     "metadata": {},
     "output_type": "execute_result"
    }
   ],
   "source": [
    "df[df[\"z_score\"]<3]"
   ]
  },
  {
   "cell_type": "code",
   "execution_count": null,
   "metadata": {},
   "outputs": [],
   "source": []
  }
 ],
 "metadata": {
  "kernelspec": {
   "display_name": "Python 3",
   "language": "python",
   "name": "python3"
  },
  "language_info": {
   "codemirror_mode": {
    "name": "ipython",
    "version": 3
   },
   "file_extension": ".py",
   "mimetype": "text/x-python",
   "name": "python",
   "nbconvert_exporter": "python",
   "pygments_lexer": "ipython3",
   "version": "3.10.14"
  }
 },
 "nbformat": 4,
 "nbformat_minor": 2
}
